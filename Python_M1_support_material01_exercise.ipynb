{
  "nbformat": 4,
  "nbformat_minor": 0,
  "metadata": {
    "colab": {
      "name": "Python_M1_support material01_exercise.ipynb",
      "provenance": [],
      "toc_visible": true,
      "include_colab_link": true
    },
    "kernelspec": {
      "name": "python3",
      "display_name": "Python 3"
    }
  },
  "cells": [
    {
      "cell_type": "markdown",
      "metadata": {
        "id": "view-in-github",
        "colab_type": "text"
      },
      "source": [
        "<a href=\"https://colab.research.google.com/github/th1ago/Aprendizado/blob/main/Python_M1_support_material01_exercise.ipynb\" target=\"_parent\"><img src=\"https://colab.research.google.com/assets/colab-badge.svg\" alt=\"Open In Colab\"/></a>"
      ]
    },
    {
      "cell_type": "markdown",
      "metadata": {
        "id": "KJqp9AANOCtf"
      },
      "source": [
        "<img src=\"https://raw.githubusercontent.com/andre-marcos-perez/ebac-course-utils/main/media/logo/newebac_logo_black_half.png\" alt=\"ebac-logo\">\n",
        "\n",
        "---\n",
        "\n",
        "# **Módulo** | Python: Variáveis & Tipos de Dados\n",
        "Caderno de **Exercícios**<br> \n",
        "Professor [André Perez](https://www.linkedin.com/in/andremarcosperez/)\n",
        "\n",
        "---"
      ]
    },
    {
      "cell_type": "markdown",
      "metadata": {
        "id": "d9jDtUbDOE1-"
      },
      "source": [
        "# **Tópicos**\n",
        "\n",
        "<ol type=\"1\">\n",
        "  <li>Introdução ao Google Colab;</li>\n",
        "  <li>Variáveis;</li>\n",
        "  <li>Números;</li>\n",
        "  <li><i>Strings;</i></li>\n",
        "  <li>Boleanos.</li>\n",
        "</ol>"
      ]
    },
    {
      "cell_type": "markdown",
      "metadata": {
        "id": "SmoHgt-lwkpD"
      },
      "source": [
        "---"
      ]
    },
    {
      "cell_type": "markdown",
      "metadata": {
        "id": "GABI6OW8OfQ2"
      },
      "source": [
        "# **Exercícios**"
      ]
    },
    {
      "cell_type": "markdown",
      "metadata": {
        "id": "muD1vxozykSC"
      },
      "source": [
        "## 1\\. Google Colab"
      ]
    },
    {
      "cell_type": "markdown",
      "metadata": {
        "id": "ahrFfCuBxJKs"
      },
      "source": [
        "Crie uma célula de código que escreva o texto \"Olá mundo!\", utilize o comando `print`."
      ]
    },
    {
      "cell_type": "code",
      "source": [
        "print('Olá mundo!')"
      ],
      "metadata": {
        "id": "EsmMKj0m-gxa"
      },
      "execution_count": null,
      "outputs": []
    },
    {
      "cell_type": "markdown",
      "metadata": {
        "id": "KI9zQRT2xa7m"
      },
      "source": [
        "Crie uma célua de texto e adicione uma imagem."
      ]
    },
    {
      "cell_type": "markdown",
      "source": [
        "![ubuntu_background-wallpaper-220x176.jpg](data:image/jpeg;base64,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)"
      ],
      "metadata": {
        "id": "NJ5WjxJ6-46D"
      }
    },
    {
      "cell_type": "markdown",
      "metadata": {
        "id": "zMN1Q3jdwoJm"
      },
      "source": [
        "---"
      ]
    },
    {
      "cell_type": "markdown",
      "metadata": {
        "id": "tFYOPLS3xiwe"
      },
      "source": [
        "## 2\\. Números"
      ]
    },
    {
      "cell_type": "markdown",
      "metadata": {
        "id": "O2G9gt7tx2c-"
      },
      "source": [
        "Preencha as células de código para preencher os valores de (A), (B) e (C) na tabela de ticket médio abaixo:\n",
        "\n",
        "<br>\n",
        "\n",
        "| Dia   | Valor Total Vendas | Qtd Total Vendas | Ticket Medio |\n",
        "|-------|--------------------|------------------|--------------|\n",
        "| 19/01 | (A)                | 3                | 320.52       |\n",
        "| 20/01 | 834.47             | (B)              | 119.21       |\n",
        "| 23/01 | 15378.12           | 5                | (C)          |"
      ]
    },
    {
      "cell_type": "code",
      "metadata": {
        "id": "nsrKH9EizNRD",
        "colab": {
          "base_uri": "https://localhost:8080/"
        },
        "outputId": "bfd7e02e-5821-46e8-9b0c-75d8bb615b97"
      },
      "source": [
        "# (A)\n",
        "a = 350.52 / 3\n",
        "print(round(a,2))"
      ],
      "execution_count": null,
      "outputs": [
        {
          "output_type": "stream",
          "name": "stdout",
          "text": [
            "116.84\n"
          ]
        }
      ]
    },
    {
      "cell_type": "code",
      "metadata": {
        "id": "QQ1GBGHJzMmi",
        "colab": {
          "base_uri": "https://localhost:8080/"
        },
        "outputId": "d2fcafeb-9726-4cb3-e39f-c45eb651b7e7"
      },
      "source": [
        "# (B)\n",
        "b = 834.47 / 119.21\n",
        "print(int(b))"
      ],
      "execution_count": null,
      "outputs": [
        {
          "output_type": "stream",
          "name": "stdout",
          "text": [
            "7\n"
          ]
        }
      ]
    },
    {
      "cell_type": "code",
      "metadata": {
        "id": "W-li0nSMzKNa",
        "colab": {
          "base_uri": "https://localhost:8080/"
        },
        "outputId": "f525bb67-6ba1-4500-991a-bc0c9113de01"
      },
      "source": [
        "# (C)\n",
        "c = 15378.12 / 5\n",
        "print(round(c,2))"
      ],
      "execution_count": null,
      "outputs": [
        {
          "output_type": "stream",
          "name": "stdout",
          "text": [
            "3075.62\n"
          ]
        }
      ]
    },
    {
      "cell_type": "markdown",
      "metadata": {
        "id": "3eoP-Vj9yzh8"
      },
      "source": [
        "---"
      ]
    },
    {
      "cell_type": "markdown",
      "metadata": {
        "id": "yUJ6kdony6Pr"
      },
      "source": [
        "## 3\\. Strings"
      ]
    },
    {
      "cell_type": "markdown",
      "metadata": {
        "id": "KDuZpg-5zCvO"
      },
      "source": [
        "Aplique três métodos distintos na *string* abaixo, você pode conferir alguns métodos neste [link](https://www.w3schools.com/python/python_ref_string.asp):"
      ]
    },
    {
      "cell_type": "code",
      "metadata": {
        "id": "k9zbyf7BzjKj",
        "colab": {
          "base_uri": "https://localhost:8080/"
        },
        "outputId": "ff5e204f-663b-4c4e-cb2e-4f2b7983e370"
      },
      "source": [
        "cancao = 'Roda mundo, roda gigante, roda moinho, roda pião.'\n",
        "achar = cancao.find(\"moinho\")\n",
        "print(achar)\n",
        "\n",
        "maiusculo = cancao.upper()\n",
        "print(maiusculo)\n",
        "\n",
        "trocar = cancao.replace(\"gigante\", \"grande\")\n",
        "print(trocar)"
      ],
      "execution_count": null,
      "outputs": [
        {
          "output_type": "stream",
          "name": "stdout",
          "text": [
            "31\n",
            "RODA MUNDO, RODA GIGANTE, RODA MOINHO, RODA PIÃO.\n",
            "Roda mundo, roda grande, roda moinho, roda pião.\n"
          ]
        }
      ]
    },
    {
      "cell_type": "markdown",
      "metadata": {
        "id": "guZMHXVq0FnC"
      },
      "source": [
        "Extraia da string abaixo o valor da taxa **selic** na variável `selic` e o valor do **ano** na variavel `ano`. Imprima os valores na tela."
      ]
    },
    {
      "cell_type": "code",
      "metadata": {
        "id": "cbx_P4IQ0agK",
        "colab": {
          "base_uri": "https://localhost:8080/"
        },
        "outputId": "99427498-48d5-472c-9f45-433035c1ccf7"
      },
      "source": [
        "noticia = 'Selic vai a 2,75% e supera expectativas; é a primeira alta em 6 anos.'\n",
        "selic = noticia[12:17]\n",
        "print(selic)\n",
        "\n",
        "ano = noticia[62:63]\n",
        "print(ano)"
      ],
      "execution_count": 33,
      "outputs": [
        {
          "output_type": "stream",
          "name": "stdout",
          "text": [
            "2,75%\n",
            "6\n"
          ]
        }
      ]
    },
    {
      "cell_type": "markdown",
      "metadata": {
        "id": "wWzbu-OC0z3L"
      },
      "source": [
        "---"
      ]
    },
    {
      "cell_type": "markdown",
      "metadata": {
        "id": "no8w_Ati01xP"
      },
      "source": [
        "## 4\\. Booleanos"
      ]
    },
    {
      "cell_type": "markdown",
      "metadata": {
        "id": "D_0tC3SC099N"
      },
      "source": [
        "Utilize a tabela da verdade para responder: qual o valor da variável x?"
      ]
    },
    {
      "cell_type": "code",
      "metadata": {
        "id": "XwIEbxf91SpU",
        "colab": {
          "base_uri": "https://localhost:8080/"
        },
        "outputId": "75e9dfda-ff40-4bbc-d395-69cbcf32eb66"
      },
      "source": [
        "a = False\n",
        "b = True\n",
        "\n",
        "x = not (a & b)\n",
        "\n",
        "print(a & b)\n",
        "print(not True)"
      ],
      "execution_count": 40,
      "outputs": [
        {
          "output_type": "stream",
          "name": "stdout",
          "text": [
            "False\n",
            "False\n"
          ]
        }
      ]
    },
    {
      "cell_type": "markdown",
      "source": [
        "Valor de X 'e FALSE"
      ],
      "metadata": {
        "id": "p4BzKksh-Vp5"
      }
    }
  ]
}